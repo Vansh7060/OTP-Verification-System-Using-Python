{
 "cells": [
  {
   "cell_type": "markdown",
   "id": "5a542daa-7465-487a-9ea4-458a0916db5d",
   "metadata": {},
   "source": [
    "#                            <font color=brown>------------------------__Project Title: OTP Verification System__------------------------</bold> "
   ]
  },
  {
   "cell_type": "markdown",
   "id": "e915f367-36b5-41b9-b280-2fc4ea054871",
   "metadata": {},
   "source": [
    "# <font color=lightgreen>Problem Statement:</bold>\n",
    "\n",
    "### <font color=lightblue>You are tasked with developing an OTP (One-Time Password) verification system in Python. The system should generate a 6-digit OTP and send it to the user's email address for verification. Upon receiving the OTP, the user should enter it into the system for validation. If the entered OTP matches the generated OTP, access should be granted; otherwise, access should be denied.\n",
    "\n"
   ]
  },
  {
   "cell_type": "markdown",
   "id": "e2d9d795-001b-43af-bf62-c296320cd56e",
   "metadata": {},
   "source": [
    "## <font color=lightgreen>Project Requirements:</bold>\n",
    "### <font color=lightblue> - Implement a function to generate a 6-digit OTP randomly.\n",
    "\n",
    "### <font color=lightblue> - Develop a function to simulate sending the OTP to the user's email address.\n",
    "\n",
    "### <font color=lightblue> - Create a function to prompt the user to enter the OTP received in their email.\n",
    "\n",
    "### <font color=lightblue> - Implement a function to verify if the entered OTP matches the generated OTP.\n",
    "\n",
    "### <font color=lightblue> - Ensure proper error handling and user-friendly prompts throughout the system.\n",
    "\n",
    "### <font color=lightblue> - Allow the user to retry OTP entry in case of incorrect input."
   ]
  },
  {
   "cell_type": "markdown",
   "id": "882ab30e-db62-4851-bbd6-484b75cc31f9",
   "metadata": {},
   "source": [
    "## <font color=pink>Implementing a function to generate a 6-digit OTP randomly.\n",
    "### <font color=pink>__generate_otp__: Generates a random 6-digit string of numbers."
   ]
  },
  {
   "cell_type": "code",
   "execution_count": 22,
   "id": "bd2da2a9-1e78-463f-a92b-9ea3d9f100ad",
   "metadata": {},
   "outputs": [
    {
     "data": {
      "text/plain": [
       "884768"
      ]
     },
     "execution_count": 22,
     "metadata": {},
     "output_type": "execute_result"
    }
   ],
   "source": [
    "import random           #importing the random module. The random module provides functions to generate random numbers and more\n",
    "def generate_otp():     #function does not take any parameters\n",
    " return random.randint(100000,999999)\n"
   ]
  },
  {
   "cell_type": "markdown",
   "id": "84abe80b-785f-4d6f-9d52-6d131f2534fc",
   "metadata": {},
   "source": [
    "## <font color=pink>Developing a function to simulate sending the OTP to the user's email address.\n",
    "### <font color=pink>__simulate_send_otp__: Takes the generated OTP and email address as input and simulates sending the OTP.\n"
   ]
  },
  {
   "cell_type": "code",
   "execution_count": 20,
   "id": "768aa5f0-4090-4a97-948f-a36886b7bad1",
   "metadata": {},
   "outputs": [],
   "source": [
    "def simulate_send_otp(otp, email):  #function takes two parameters\n",
    "                                    #otp: This parameter represents the generated OTP .\n",
    "                                    #email: This parameter represents the user's email address where the OTP is to be sent.\n",
    "  \"\"\"Simulates sending the OTP to the user's email address\"\"\"\n",
    "  print(f\"A 6-digit OTP has been sent to your email address: {email}\")\n"
   ]
  },
  {
   "cell_type": "markdown",
   "id": "d3746716-c8f0-4f1b-b185-13caddb0d2d0",
   "metadata": {},
   "source": [
    "## <font color=pink>Creating a function to prompt the user to enter the OTP received in their email.\n",
    "### <font color=pink> __prompt_otp__: Prompts the user to enter a 6-digit code and validates the input until a valid code is entered."
   ]
  },
  {
   "cell_type": "code",
   "execution_count": 29,
   "id": "5a2b8cd7-71c2-4d20-abc4-1afd1bc803d7",
   "metadata": {},
   "outputs": [],
   "source": [
    "def prompt_otp():                                                #function does not take any parameter\n",
    "  ''' Prompts the user to enter the OTP received in their email '''\n",
    "  while True:\n",
    "    otp_entered = input(\"Enter the 6-digit OTP you received: \")  # Prompt the user to enter the OTP\n",
    "      \n",
    "    if len(otp_entered) == 6 and otp_entered.isdigit():          # Check if the entered OTP is valid\n",
    "      return otp_entered                                         # return entered otp if it is valid\n",
    "    else:\n",
    "      print(\"Invalid OTP. Please enter a 6-digit number.\")      "
   ]
  },
  {
   "cell_type": "markdown",
   "id": "6443c82b-7d1b-427f-afe8-6b5edcc1beb5",
   "metadata": {},
   "source": [
    "\n",
    "## <font color=pink>Implementing a function to verify if the entered OTP matches the generated OTP.\n",
    "### <font color=pink>__verify_otp__: Compares the generated OTP with the entered OTP and returns True if they match.\n"
   ]
  },
  {
   "cell_type": "code",
   "execution_count": 16,
   "id": "40dad2c1-bc6e-49af-ade6-808cb3a230a2",
   "metadata": {},
   "outputs": [],
   "source": [
    "def verify_otp(generated_otp, entered_otp):        #function takes two parameter\n",
    "                                                   #generated_otp: This parameter represents the generated OTP.\n",
    "                                                   #entered_otp: This parameter represents the entered OTP.\n",
    "  \"\"\"Verifies if the entered OTP matches the generated OTP\"\"\"\n",
    "  return generated_otp == entered_otp   # Compare the generated OTP with the entered OTP"
   ]
  },
  {
   "cell_type": "markdown",
   "id": "eac7c138-664d-49a5-972a-44ba5f033cde",
   "metadata": {},
   "source": [
    "# <font color=brown>Main() FUNCTION\n",
    "### <font color=#CD5C5C>__main__: The main function that ties everything together. It generates an OTP, simulates sending it, prompts the user for input with retries, and verifies the entered code"
   ]
  },
  {
   "cell_type": "code",
   "execution_count": 30,
   "id": "7831993e-4206-4d98-9b6a-9cd86081bf26",
   "metadata": {},
   "outputs": [],
   "source": [
    "def main():\n",
    "  \"\"\"Main function to handle OTP generation, verification, and retries\"\"\"\n",
    "  generated_otp = generate_otp()                # Generate OTP\n",
    "    \n",
    "  email = input(\"Enter your email address: \")   # Prompt user for email address\n",
    "    \n",
    "  simulate_send_otp(generated_otp, email)       # Simulate sending OTP to the user's email\n",
    "\n",
    "  for attempt in range(3):                      # Allow maximum of 3 attempts to enter OTP\n",
    "    entered_otp = prompt_otp()                  # Prompt user to enter OTP\n",
    "      \n",
    "    if verify_otp(generated_otp, entered_otp):  # Verify entered OTP\n",
    "      print(\"OTP verified successfully!\")\n",
    "      return                                    # Exit function if OTP is verified\n",
    "    else:\n",
    "      print(\"Incorrect OTP. Please try again.\")\n",
    "      if attempt == 2:\n",
    "        print(\"Maximum retries reached. Please restart the process.\")   # Maximum retries reached\n"
   ]
  }
 ],
 "metadata": {
  "kernelspec": {
   "display_name": "Python 3 (ipykernel)",
   "language": "python",
   "name": "python3"
  },
  "language_info": {
   "codemirror_mode": {
    "name": "ipython",
    "version": 3
   },
   "file_extension": ".py",
   "mimetype": "text/x-python",
   "name": "python",
   "nbconvert_exporter": "python",
   "pygments_lexer": "ipython3",
   "version": "3.12.1"
  }
 },
 "nbformat": 4,
 "nbformat_minor": 5
}
